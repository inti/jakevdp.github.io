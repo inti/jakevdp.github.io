{
 "metadata": {
  "name": "NumbaCython"
 },
 "nbformat": 3,
 "nbformat_minor": 0,
 "worksheets": [
  {
   "cells": [
    {
     "cell_type": "heading",
     "level": 1,
     "metadata": {},
     "source": [
      "Numba vs. Cython: Take 2"
     ]
    },
    {
     "cell_type": "markdown",
     "metadata": {},
     "source": [
      "*This notebook first appeared as a*\n",
      "[*post*](http://jakevdp.github.io/blog/2012/08/24/numba-vs-cython/)\n",
      "*by Jake Vanderplas on the blog*\n",
      "[*Pythonic Perambulations*](http://jakevdp.github.io)"
     ]
    },
    {
     "cell_type": "markdown",
     "metadata": {},
     "source": [
      "<!-- PELICAN_BEGIN_SUMMARY -->\n",
      "Last summer I wrote a [post](http://jakevdp.github.io/blog/2012/08/24/numba-vs-cython/)\n",
      "comparing the performance of [Numba](http://numba.pydata.org/) and [Cython](http://cython.org/)\n",
      "for optimizing array-based computation.  Since posting, the page has received thousands of hits,\n",
      "and resulted in a number of interesting discussions.\n",
      "But in the meantime, the Numba package has come a long way both in its interface and its\n",
      "performance.\n",
      "\n",
      "Here I want to revisit those timing comparisons with a more recent Numba release, using the newer\n",
      "and more convenient ``autojit`` syntax, and also add in a few additional benchmarks for\n",
      "completeness.  I've also written this post entirely within an IPython notebook, so it can be\n",
      "easily downloaded and modified.\n",
      "\n",
      "As before, I'll use a **pairwise distance** function.  This will take an array representing\n",
      "``M`` points in ``N`` dimensions, and return the ``M x M`` matrix of pairwise distances.\n",
      "This is a nice test function for a few reasons.  First of all, it's a very clean and\n",
      "well-defined test.  Second of all, it illustrates the kind of array-based operation that\n",
      "is common in statistics, datamining, and machine learning.  Third, it is a function that\n",
      "results in large memory consumption if the standard numpy broadcasting approach is used\n",
      "(it requires a temporary array containing ``M * M * N``  elements), making it a good\n",
      "candidate for an alternate approach.\n",
      "\n",
      "<!-- PELICAN_END_SUMMARY -->\n",
      "\n",
      "We'll start by defining the array which we'll use for the benchmarks: one thousand points in\n",
      "three dimensions."
     ]
    },
    {
     "cell_type": "code",
     "collapsed": false,
     "input": [
      "import numpy as np\n",
      "X = np.random.random((1000, 3))"
     ],
     "language": "python",
     "metadata": {},
     "outputs": [],
     "prompt_number": 1
    },
    {
     "cell_type": "heading",
     "level": 2,
     "metadata": {},
     "source": [
      "Numpy Function With Broadcasting"
     ]
    },
    {
     "cell_type": "markdown",
     "metadata": {},
     "source": [
      "We'll start with a typical numpy broadcasting approach to this problem.  Numpy\n",
      "broadcasting is an abstraction that allows loops over array indices to be\n",
      "executed in compiled C.  For many applications, this is extremely fast and efficient.\n",
      "Unfortunately, there is a problem with broadcasting approaches that comes up here:\n",
      "it ends up allocating hidden temporary arrays which can eat up memory and cause\n",
      "computational overhead.  Nevertheless, it's a good comparison to have.  The function\n",
      "looks like this:"
     ]
    },
    {
     "cell_type": "code",
     "collapsed": false,
     "input": [
      "def pairwise_numpy(X):\n",
      "    return np.sqrt(((X[:, None, :] - X) ** 2).sum(-1))\n",
      "%timeit pairwise_numpy(X)"
     ],
     "language": "python",
     "metadata": {},
     "outputs": [
      {
       "output_type": "stream",
       "stream": "stdout",
       "text": [
        "10 loops, best of 3: 111 ms per loop\n"
       ]
      }
     ],
     "prompt_number": 2
    },
    {
     "cell_type": "heading",
     "level": 2,
     "metadata": {},
     "source": [
      "Pure Python Function"
     ]
    },
    {
     "cell_type": "markdown",
     "metadata": {},
     "source": [
      "A loop-based solution avoids the overhead associated with temporary arrays,\n",
      "and can be written like this:"
     ]
    },
    {
     "cell_type": "code",
     "collapsed": false,
     "input": [
      "def pairwise_python(X):\n",
      "    M = X.shape[0]\n",
      "    N = X.shape[1]\n",
      "    D = np.empty((M, M), dtype=np.float)\n",
      "    for i in range(M):\n",
      "        for j in range(M):\n",
      "            d = 0.0\n",
      "            for k in range(N):\n",
      "                tmp = X[i, k] - X[j, k]\n",
      "                d += tmp * tmp\n",
      "            D[i, j] = np.sqrt(d)\n",
      "    return D\n",
      "%timeit pairwise_python(X)"
     ],
     "language": "python",
     "metadata": {},
     "outputs": [
      {
       "output_type": "stream",
       "stream": "stdout",
       "text": [
        "1 loops, best of 3: 13.4 s per loop\n"
       ]
      }
     ],
     "prompt_number": 3
    },
    {
     "cell_type": "markdown",
     "metadata": {},
     "source": [
      "As we see, it is over 100 times slower than the numpy broadcasting approach!\n",
      "This is due to Python's dynamic type checking, which can drastically slow down\n",
      "nested loops.  With these two solutions, we're left with a tradeoff between\n",
      "efficiency of computation and efficiency of memory usage.  This is where tools\n",
      "like Numba and Cython become vital\n",
      "\n",
      "I should note that there exist alternative Python interpreters which improve\n",
      "on the computational inefficiency of the Python run-time, one of which is\n",
      "the popular [PyPy](http://pypy.org/) project.\n",
      "PyPy is extremely interesting.  However,\n",
      "it's currently all but useless for scientific applications,\n",
      "because it does not support NumPy, and by extension cannot run\n",
      "code based on SciPy, scikit-learn, matplotlib, or virtually any other\n",
      "package that makes Python a useful tool for scientific computing.\n",
      "For that reason, I won't consider PyPy here."
     ]
    },
    {
     "cell_type": "heading",
     "level": 2,
     "metadata": {},
     "source": [
      "Numba Wrapper"
     ]
    },
    {
     "cell_type": "markdown",
     "metadata": {},
     "source": [
      "[Numba](http://numba.pydata.org/) is an LLVM compiler for python code, which\n",
      "allows code written in Python to be converted to highly efficient compiled code\n",
      "in real-time.  Due to its dependencies, compiling it can be a challenge.  To experiment\n",
      "with Numba, I recommend using a local installation of [Anaconda](https://store.continuum.io/),\n",
      "the free cross-platform Python distribution which includes Numba and all its prerequisites\n",
      "within a single easy-to-install package.\n",
      "\n",
      "Numba is extremely simple to use.  We just wrap our python function with ``autojit`` (JIT stands\n",
      "for \"just in time\" compilation) to automatically create an efficient, compiled version of the function:"
     ]
    },
    {
     "cell_type": "code",
     "collapsed": false,
     "input": [
      "from numba import double\n",
      "from numba.decorators import jit, autojit\n",
      "\n",
      "pairwise_numba = autojit(pairwise_python)\n",
      "\n",
      "%timeit pairwise_numba(X)"
     ],
     "language": "python",
     "metadata": {},
     "outputs": [
      {
       "output_type": "stream",
       "stream": "stdout",
       "text": [
        "1 loops, best of 3: 9.12 ms per loop\n"
       ]
      }
     ],
     "prompt_number": 4
    },
    {
     "cell_type": "markdown",
     "metadata": {},
     "source": [
      "Adding this simple expression speeds up our execution by over a factor of over 1400!\n",
      "For those keeping track, this is about 50% faster than the version of Numba that\n",
      "I tested last August on the same machine."
     ]
    },
    {
     "cell_type": "heading",
     "level": 2,
     "metadata": {},
     "source": [
      "Optimized Cython Function"
     ]
    },
    {
     "cell_type": "markdown",
     "metadata": {},
     "source": [
      "[Cython](http://cython.org) is another package which is built to convert Python-like statemets\n",
      "into compiled code. The language is actually a superset of Python which acts as a sort of\n",
      "hybrid between Python and C.  By adding type annotations to Python code and running\n",
      "it through the Cython interpreter, we obtain fast compiled code.  Here is a\n",
      "highly-optimized Cython version of the pairwise distance function, which we compile\n",
      "using IPython's Cython magic:"
     ]
    },
    {
     "cell_type": "code",
     "collapsed": false,
     "input": [
      "%load_ext cythonmagic"
     ],
     "language": "python",
     "metadata": {},
     "outputs": [],
     "prompt_number": 5
    },
    {
     "cell_type": "code",
     "collapsed": false,
     "input": [
      "%%cython\n",
      "\n",
      "import numpy as np\n",
      "cimport cython\n",
      "from libc.math cimport sqrt\n",
      "\n",
      "@cython.boundscheck(False)\n",
      "@cython.wraparound(False)\n",
      "def pairwise_cython(double[:, ::1] X):\n",
      "    cdef int M = X.shape[0]\n",
      "    cdef int N = X.shape[1]\n",
      "    cdef double tmp, d\n",
      "    cdef double[:, ::1] D = np.empty((M, M), dtype=np.float64)\n",
      "    for i in range(M):\n",
      "        for j in range(M):\n",
      "            d = 0.0\n",
      "            for k in range(N):\n",
      "                tmp = X[i, k] - X[j, k]\n",
      "                d += tmp * tmp\n",
      "            D[i, j] = sqrt(d)\n",
      "    return np.asarray(D)"
     ],
     "language": "python",
     "metadata": {},
     "outputs": [],
     "prompt_number": 6
    },
    {
     "cell_type": "code",
     "collapsed": false,
     "input": [
      "%timeit pairwise_cython(X)"
     ],
     "language": "python",
     "metadata": {},
     "outputs": [
      {
       "output_type": "stream",
       "stream": "stdout",
       "text": [
        "100 loops, best of 3: 9.87 ms per loop\n"
       ]
      }
     ],
     "prompt_number": 7
    },
    {
     "cell_type": "markdown",
     "metadata": {},
     "source": [
      "The Cython version, despite all the optimization, is a few percent *slower* than\n",
      "the result of the simple Numba decorator!  I should emphasize here that I have\n",
      "years of experience with Cython, and in this function I've used every Cython\n",
      "optimization there is\n",
      "(if any Cython super-experts are out there and would like to correct me\n",
      "on that, please let me know in the blog comment thread!)  By comparison, the Numba\n",
      "version is a simple, unadorned wrapper around plainly-written Python code."
     ]
    },
    {
     "cell_type": "heading",
     "level": 2,
     "metadata": {},
     "source": [
      "Fortran Function"
     ]
    },
    {
     "cell_type": "markdown",
     "metadata": {},
     "source": [
      "Another option for fast computation is to write a Fortran function directly, and use\n",
      "the ``f2py`` package to interface with the function.  We can write the function\n",
      "as follows:"
     ]
    },
    {
     "cell_type": "code",
     "collapsed": false,
     "input": [
      "%%file pairwise_fort.f\n",
      "\n",
      "      subroutine pairwise_fort(X,D,m,n)\n",
      "          integer :: n,m\n",
      "          double precision, intent(in) :: X(m,n)\n",
      "          double precision, intent(out) :: D(m,m) \n",
      "          integer :: i,j,k\n",
      "          double precision :: r \n",
      "          do i = 1,m \n",
      "              do j = 1,m \n",
      "                  r = 0\n",
      "                  do k = 1,n \n",
      "                      r = r + (X(i,k) - X(j,k)) * (X(i,k) - X(j,k)) \n",
      "                  end do \n",
      "                  D(i,j) = sqrt(r) \n",
      "              end do \n",
      "          end do \n",
      "      end subroutine pairwise_fort"
     ],
     "language": "python",
     "metadata": {},
     "outputs": [
      {
       "output_type": "stream",
       "stream": "stdout",
       "text": [
        "Writing pairwise_fort.f\n"
       ]
      }
     ],
     "prompt_number": 8
    },
    {
     "cell_type": "markdown",
     "metadata": {},
     "source": [
      "We can then use the shell interface to compile the Fortran function.  In order\n",
      "to hide the output of this operation, we direct it into ``/dev/null`` (note: I\n",
      "tested this on Linux, and it may have to be modified for Mac or Windows)."
     ]
    },
    {
     "cell_type": "code",
     "collapsed": false,
     "input": [
      "# Compile the Fortran with f2py.\n",
      "# We'll direct the output into /dev/null so it doesn't fill the screen\n",
      "!f2py -c pairwise_fort.f -m pairwise_fort > /dev/null"
     ],
     "language": "python",
     "metadata": {},
     "outputs": [],
     "prompt_number": 9
    },
    {
     "cell_type": "markdown",
     "metadata": {},
     "source": [
      "We can import the resulting code into Python to time the execution\n",
      "of the function.  To make sure we're being fair, we'll first convert\n",
      "the test array to Fortran-ordering so that no conversion needs to\n",
      "happen in the background:"
     ]
    },
    {
     "cell_type": "code",
     "collapsed": false,
     "input": [
      "from pairwise_fort import pairwise_fort\n",
      "XF = np.asarray(X, order='F')\n",
      "%timeit pairwise_fort(XF)"
     ],
     "language": "python",
     "metadata": {},
     "outputs": [
      {
       "output_type": "stream",
       "stream": "stdout",
       "text": [
        "100 loops, best of 3: 16.7 ms per loop"
       ]
      },
      {
       "output_type": "stream",
       "stream": "stdout",
       "text": [
        "\n"
       ]
      }
     ],
     "prompt_number": 10
    },
    {
     "cell_type": "markdown",
     "metadata": {},
     "source": [
      "The result is nearly a factor of two slower than the Cython and Numba versions.\n",
      "\n",
      "Now, I should note here that I am most definitely **not** an expert on Fortran, so\n",
      "there may very well be optimizations missing from the above code.  If you see any\n",
      "obvious problems here, please let me know in the blog comments."
     ]
    },
    {
     "cell_type": "heading",
     "level": 2,
     "metadata": {},
     "source": [
      "Scipy Pairwise Distances"
     ]
    },
    {
     "cell_type": "markdown",
     "metadata": {},
     "source": [
      "Because pairwise distances are such a commonly used application in scientific\n",
      "computing, both Scipy and scikit-learn have optimized routines to compute them.\n",
      "The Scipy version is a Python wrapper of C code, and can be called as follows:"
     ]
    },
    {
     "cell_type": "code",
     "collapsed": false,
     "input": [
      "from scipy.spatial.distance import cdist\n",
      "%timeit cdist(X, X)"
     ],
     "language": "python",
     "metadata": {},
     "outputs": [
      {
       "output_type": "stream",
       "stream": "stdout",
       "text": [
        "100 loops, best of 3: 12.9 ms per loop\n"
       ]
      }
     ],
     "prompt_number": 11
    },
    {
     "cell_type": "markdown",
     "metadata": {},
     "source": [
      "``cdist`` is about 50% slower than Numba."
     ]
    },
    {
     "cell_type": "heading",
     "level": 2,
     "metadata": {},
     "source": [
      "Scikit-learn Pairwise Distances"
     ]
    },
    {
     "cell_type": "markdown",
     "metadata": {},
     "source": [
      "Scikit-learn contains the ``euclidean_distances`` function, works on sparse\n",
      "matrices as well as numpy arrays, and is implemented in Cython:"
     ]
    },
    {
     "cell_type": "code",
     "collapsed": false,
     "input": [
      "from sklearn.metrics import euclidean_distances\n",
      "%timeit euclidean_distances(X, X)"
     ],
     "language": "python",
     "metadata": {},
     "outputs": [
      {
       "output_type": "stream",
       "stream": "stdout",
       "text": [
        "10 loops, best of 3: 35.6 ms per loop\n"
       ]
      }
     ],
     "prompt_number": 12
    },
    {
     "cell_type": "markdown",
     "metadata": {},
     "source": [
      "``euclidean_distances`` is several times slower than the Numba pairwise function\n",
      "on dense arrays."
     ]
    },
    {
     "cell_type": "heading",
     "level": 2,
     "metadata": {},
     "source": [
      "Comparing the Results"
     ]
    },
    {
     "cell_type": "markdown",
     "metadata": {},
     "source": [
      "Out of all the above pairwise distance methods, unadorned Numba is the clear winner,\n",
      "with highly-optimized Cython coming in a close second.  Both beat out the other\n",
      "options by a large amount.\n",
      "\n",
      "As a summary of the results, we'll create a bar-chart to visualize the timings:"
     ]
    },
    {
     "cell_type": "code",
     "collapsed": false,
     "input": [
      "%pylab inline"
     ],
     "language": "python",
     "metadata": {},
     "outputs": [
      {
       "output_type": "stream",
       "stream": "stdout",
       "text": [
        "\n",
        "Welcome to pylab, a matplotlib-based Python environment [backend: module://IPython.zmq.pylab.backend_inline].\n",
        "For more information, type 'help(pylab)'.\n"
       ]
      }
     ],
     "prompt_number": 14
    },
    {
     "cell_type": "code",
     "collapsed": false,
     "input": [
      "labels = ['python\\nloop', 'numpy\\nbroadc.', 'sklearn', 'fortran', 'scipy', 'cython', 'numba']\n",
      "timings = [13.4, 0.111, 0.0356, 0.0167, 0.0129, 0.00987, 0.00912]\n",
      "x = np.arange(len(labels))\n",
      "\n",
      "ax = plt.axes(xticks=x, yscale='log')\n",
      "ax.bar(x - 0.3, timings, width=0.6, alpha=0.4, bottom=1E-6)\n",
      "ax.grid()\n",
      "ax.set_xlim(-0.5, len(labels) - 0.5)\n",
      "ax.set_ylim(1E-3, 1E2)\n",
      "ax.xaxis.set_major_formatter(plt.FuncFormatter(lambda i, loc: labels[int(i)]))\n",
      "ax.set_ylabel('time (s)')\n",
      "ax.set_title(\"Pairwise Distance Timings\")"
     ],
     "language": "python",
     "metadata": {},
     "outputs": [
      {
       "output_type": "pyout",
       "prompt_number": 15,
       "text": [
        "<matplotlib.text.Text at 0x611eb90>"
       ]
      },
      {
       "output_type": "display_data",
       "png": "[encoded data removed]"
      }
     ],
     "prompt_number": 15
    },
    {
     "cell_type": "markdown",
     "metadata": {},
     "source": [
      "Note that this is log-scaled, so the vertical space between two\n",
      "grid lines indicates a factor of 10 difference in computation time!\n",
      "\n",
      "When I compared Cython and Numba last August, I found that Cython was about\n",
      "30% faster than Numba.  Since then, Numba has had a few more releases, and both\n",
      "the interface and the performance has improved.  On\n",
      "top of being much easier to use (i.e. automatic type inference by ``autojit``)\n",
      "it's now about 50% faster, and is even a few percent faster than the Cython option.\n",
      "\n",
      "And though I've seen similar things for months, I'm still incredibly impressed\n",
      "by the results enabled by Numba: *a single function decorator results in a\n",
      "1300x speedup of simple Python code.*\n",
      "I'm becoming more and more convinced that Numba is\n",
      "the future of fast scientific computing in Python."
     ]
    },
    {
     "cell_type": "markdown",
     "metadata": {},
     "source": [
      "*This post was written entirely as an IPython notebook.* \n",
      "*The full notebook can be downloaded* \n",
      "[*here*](http://jakevdp.github.io/downloads/notebooks/NumbaCython.ipynb), \n",
      "*or viewed statically on* \n",
      "[*nbviewer*](http://nbviewer.ipython.org/url/jakevdp.github.io/downloads/notebooks/NumbaCython.ipynb)"
     ]
    }
   ],
   "metadata": {}
  }
 ]
}